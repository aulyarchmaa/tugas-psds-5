{
  "nbformat": 4,
  "nbformat_minor": 0,
  "metadata": {
    "colab": {
      "provenance": []
    },
    "kernelspec": {
      "name": "python3",
      "display_name": "Python 3"
    },
    "language_info": {
      "name": "python"
    }
  },
  "cells": [
    {
      "cell_type": "markdown",
      "source": [
        "**FUNCTION**\n",
        "\n",
        "Function (fungsi) adalah sebuah blok statement yang hanya akan dijalankan saat ia dipanggil.\n",
        "\n",
        "Fungsi len() untuk mengukur jumlah elemen dalam sebuah list dan fungsi print() untuk menampilkan pesan pada layar konsol merupakan contoh dari bentuk fungsi yang telah disediakan oleh bahasa pemrograman Python dengan kata lain built-in functions. Selain fungsi yang telah disediakan Python, Python mengizinkan untuk mendeklarasikan fungsi dalam kode yang dituliskan yang dikenal dengan user defined function."
      ],
      "metadata": {
        "id": "7_gSV9HCOmOw"
      }
    },
    {
      "cell_type": "code",
      "execution_count": 2,
      "metadata": {
        "id": "BKPcSRJzOQlv"
      },
      "outputs": [],
      "source": [
        "def nama_fungsi(argument):\n",
        "  statement_1\n",
        "  statement_n\n",
        "  return returned_value"
      ]
    },
    {
      "cell_type": "markdown",
      "source": [
        "-nama_fungsi adalah untuk fungsi yang anda definisikan, memiliki aturan seperti penamaan variabel.\n",
        "\n",
        "-argument adalah variabel masukan ke fungsi, biasa tanpa variabel, satu variabel atau lebih.\n",
        "\n",
        "-statement_1.. statement_n adalah algoritma yang telah anda transfer dalam bahasa python yang merupakan inti dari fungsi yang anda definisikan. Seluruh statement adalah menjorok (indent) ke dalam seperti yang pernah anda peljari pada conditioning dan looping.\n",
        "\n",
        "-return_value adalah variabel output dari fungsi anda, bisa tanpa variabel, satu variabel atau lebih"
      ],
      "metadata": {
        "id": "ZN56kvs3PQWJ"
      }
    },
    {
      "cell_type": "code",
      "source": [],
      "metadata": {
        "id": "dW3ncjntPr3o"
      },
      "execution_count": null,
      "outputs": []
    },
    {
      "cell_type": "markdown",
      "source": [
        "**ARGUMEN DAN PARAMETER**\n",
        "\n",
        "-Parameter adalah varabel yang digunakan dalam deklarasi fungsi.\n",
        "\n",
        "-Argumen adalah nilai yang diberikan saat pemanggilan fungsi"
      ],
      "metadata": {
        "id": "_vEh5zG0PkWV"
      }
    },
    {
      "cell_type": "code",
      "source": [
        "def print_nama(nama): #'nama' adalah parameter\n",
        "  print(nama)\n",
        "\n",
        "print_nama('aulya') #'aulya' adalah argumen"
      ],
      "metadata": {
        "colab": {
          "base_uri": "https://localhost:8080/"
        },
        "id": "picUVQGpPDoW",
        "outputId": "2ee52a34-5167-41e3-e461-cff5af426299"
      },
      "execution_count": 3,
      "outputs": [
        {
          "output_type": "stream",
          "name": "stdout",
          "text": [
            "aulya\n"
          ]
        }
      ]
    },
    {
      "cell_type": "code",
      "source": [],
      "metadata": {
        "id": "uRsJwELZQHLh"
      },
      "execution_count": null,
      "outputs": []
    },
    {
      "cell_type": "markdown",
      "source": [
        "**ARGUMEN POSISI DAN KATA KUNCI**\n",
        "Kita bisa menyatakan argumen posisi atau kata kunci. Beberapa manfaat argumen kata kunci dapat berupa:\n",
        "-Kita dapat menyebut argumen dengan mereka untuk menjelaskan apa yang merekan wakili\n",
        "-Kita dapat mengatur ulang argumen dengan cara membuatnya paling mudah dibaca"
      ],
      "metadata": {
        "id": "nqoJKcB1QEZv"
      }
    },
    {
      "cell_type": "code",
      "source": [
        "def angka(a, b, c):\n",
        "    print(a, b, c)\n",
        "\n",
        "#argumen posisi\n",
        "#argumen berdasarkan posisinya\n",
        "angka(1, 2, 3)\n",
        "\n",
        "#argumen berdasarkan kata kuncinya\n",
        "angka(a=1, b=2, c=3)\n",
        "angka(c=3, b=2, a=1)\n",
        "\n",
        "#catatan: jika sudah diberi kunci maka urutan tidak penting\n",
        "\n",
        "#campuran antara argumen posisi dan kata kunci\n",
        "angka(1, b=2, c=3)\n",
        "\n",
        "#ini tidak diijinkan:\n",
        "#foo(1, b=2, 3) #argumen posisiona setelah argumen kunci\n",
        "#foo(1, b=2, a=3) #terdapat dua nilai untuk argumen kunci 'a'"
      ],
      "metadata": {
        "colab": {
          "base_uri": "https://localhost:8080/"
        },
        "id": "DyKX5vf6P9Gp",
        "outputId": "828f3ee4-fa1f-4091-a17c-1c9960e376d8"
      },
      "execution_count": 4,
      "outputs": [
        {
          "output_type": "stream",
          "name": "stdout",
          "text": [
            "1 2 3\n",
            "1 2 3\n",
            "1 2 3\n",
            "1 2 3\n"
          ]
        }
      ]
    },
    {
      "cell_type": "code",
      "source": [],
      "metadata": {
        "id": "j3n_kI_fQkxW"
      },
      "execution_count": null,
      "outputs": []
    },
    {
      "cell_type": "markdown",
      "source": [
        "**ARGUMEN DEFAULT**\n",
        "\n",
        "Fungsi dapat memiliki argumen default dengan nilai yang telah ditentukan sebelumnya. Argumen ini dapat ditinggalkan dan nilai default kemudian diteruskan ke fungsi, atau argumen dapat dirubah dengan nilai yang berbeda. Perhatikan bahwa argumen default harus ditentukan sebagai **parameter terakhir** dalam suatu fungsi."
      ],
      "metadata": {
        "id": "g-2vej0IQj87"
      }
    },
    {
      "cell_type": "code",
      "source": [
        "#argumen default\n",
        "def angka2(a, b, c, d=4):\n",
        "    print(a, b, c, d)\n",
        "\n",
        "angka2(1, 2, 3, 4)\n",
        "angka2(1, b=2, c=3, d=100)\n",
        "\n",
        "#Argumen default harus diletakkan terakhir"
      ],
      "metadata": {
        "colab": {
          "base_uri": "https://localhost:8080/"
        },
        "id": "pWcRqdHaQZb4",
        "outputId": "e216c884-ed97-4b65-b3be-c47fa6c80799"
      },
      "execution_count": 5,
      "outputs": [
        {
          "output_type": "stream",
          "name": "stdout",
          "text": [
            "1 2 3 4\n",
            "1 2 3 100\n"
          ]
        }
      ]
    },
    {
      "cell_type": "code",
      "source": [
        "x = 1\n",
        "y = 2\n",
        "x*y"
      ],
      "metadata": {
        "colab": {
          "base_uri": "https://localhost:8080/"
        },
        "id": "HJUMGJyuQu5_",
        "outputId": "8709ff8a-8d95-43bd-b5c0-828ba7aaa5b4"
      },
      "execution_count": 6,
      "outputs": [
        {
          "output_type": "execute_result",
          "data": {
            "text/plain": [
              "2"
            ]
          },
          "metadata": {},
          "execution_count": 6
        }
      ]
    },
    {
      "cell_type": "code",
      "source": [
        "def penjumlahan(x,y):\n",
        "  a=x+y\n",
        "  return a\n",
        "\n",
        "penjumlahan(1, 2)"
      ],
      "metadata": {
        "colab": {
          "base_uri": "https://localhost:8080/"
        },
        "id": "oq_VCKTnRO2K",
        "outputId": "d3afb019-b0b0-4cec-f761-6f62f654c582"
      },
      "execution_count": 7,
      "outputs": [
        {
          "output_type": "execute_result",
          "data": {
            "text/plain": [
              "3"
            ]
          },
          "metadata": {},
          "execution_count": 7
        }
      ]
    },
    {
      "cell_type": "code",
      "source": [
        "def penjumlahan(x,y,z=None):\n",
        "    if (z==None):\n",
        "        return x+y\n",
        "    else:\n",
        "        return x+y+z\n",
        "\n",
        "print(penjumlahan(1, 2))\n",
        "print(penjumlahan(1, 2, 3))"
      ],
      "metadata": {
        "colab": {
          "base_uri": "https://localhost:8080/"
        },
        "id": "quz7n0MoRUl1",
        "outputId": "cc65fb9d-e03d-4469-90d1-db8a16bbd87d"
      },
      "execution_count": 8,
      "outputs": [
        {
          "output_type": "stream",
          "name": "stdout",
          "text": [
            "3\n",
            "6\n"
          ]
        }
      ]
    },
    {
      "cell_type": "code",
      "source": [
        "def penjumlahan(x,y):\n",
        "    return x+y\n",
        "a = penjumlahan\n",
        "a(1, 2)"
      ],
      "metadata": {
        "colab": {
          "base_uri": "https://localhost:8080/"
        },
        "id": "S3cxdQpwRW_c",
        "outputId": "3c281e71-65e1-4350-f845-96cfdb04d4e2"
      },
      "execution_count": 9,
      "outputs": [
        {
          "output_type": "execute_result",
          "data": {
            "text/plain": [
              "3"
            ]
          },
          "metadata": {},
          "execution_count": 9
        }
      ]
    },
    {
      "cell_type": "markdown",
      "source": [
        "**LAMBDA**\n",
        "\n",
        "Fungsi Lambda adalah fungsi anonim one line yang didefinisikan tanpa nama. Fungsi lambda dapat mengambil sejumlah argument, tetapi hanya dapat memiliki satu expression. Sementara fungsi normal didefinisikan menggunakan kata kunci def, dalam Python fungsi anonim didefinisikan menggunakan kata kunci lambda.\n",
        "\n",
        "Lambda sendiri berasal dari teori kalkulus, yakni Lambda Calculus yang dikenalkan oleh Alonzo Church di tahun 1930.\n",
        "\n",
        "Berkat lambda, kita bisa membuat fungsi tanpa nama atau dikenalkan oleh Anonymous function.\n",
        "\n",
        "Lambda bisa memiliki lebih dari satu argumen atau parameter, tapi hanya bisa memiliki satu ekspresi atau isi."
      ],
      "metadata": {
        "id": "PldzilV6RonP"
      }
    },
    {
      "cell_type": "code",
      "source": [
        "greeting = lambda name: print(f\"hello, {name}\")"
      ],
      "metadata": {
        "id": "rHN_gLojRmCZ"
      },
      "execution_count": 10,
      "outputs": []
    },
    {
      "cell_type": "markdown",
      "source": [
        "Karena fngsi lambda tidak punya nama, jadi kita butuh bariabel untuk menyimpannya.\n",
        "Nanti saat mau kita panggil, kita tinggal tuliskan saja nama variabelnya seperti ini:\n"
      ],
      "metadata": {
        "id": "C4Cngh-JSSDM"
      }
    },
    {
      "cell_type": "code",
      "source": [
        "greeting(\"aulya\")\n",
        "greeting(\"rachma\")"
      ],
      "metadata": {
        "colab": {
          "base_uri": "https://localhost:8080/"
        },
        "id": "u6tUn-CBSRHm",
        "outputId": "e6ab5f13-f678-4062-b26e-f5c5aa45f9ce"
      },
      "execution_count": 11,
      "outputs": [
        {
          "output_type": "stream",
          "name": "stdout",
          "text": [
            "hello, aulya\n",
            "hello, rachma\n"
          ]
        }
      ]
    },
    {
      "cell_type": "code",
      "source": [
        "#Fungsi Lambda untuk menambahkan angka 10 kepada argument input\n",
        "f = lambda x: x+10\n",
        "val1 = f(5)\n",
        "val2 = f(100)\n",
        "print(val1,val2)"
      ],
      "metadata": {
        "colab": {
          "base_uri": "https://localhost:8080/"
        },
        "id": "IsnaDgGGSf6e",
        "outputId": "3fdbed4b-4219-4230-b3b1-7ef9fe81a935"
      },
      "execution_count": 12,
      "outputs": [
        {
          "output_type": "stream",
          "name": "stdout",
          "text": [
            "15 110\n"
          ]
        }
      ]
    },
    {
      "cell_type": "code",
      "source": [
        "#Fungsi Lambda untuk mengalihkan dua argumen input dan menampilakn hasilnya\n",
        "f = lambda x,y:x*y\n",
        "val3 = f(2,10)\n",
        "val4 = f(7,5)\n",
        "print(val3,val4)"
      ],
      "metadata": {
        "colab": {
          "base_uri": "https://localhost:8080/"
        },
        "id": "cBBhRJWkSjLO",
        "outputId": "b447b237-1b5a-40ec-e861-850afdf60721"
      },
      "execution_count": 13,
      "outputs": [
        {
          "output_type": "stream",
          "name": "stdout",
          "text": [
            "20 35\n"
          ]
        }
      ]
    },
    {
      "cell_type": "code",
      "source": [],
      "metadata": {
        "id": "6geVqruhSvdj"
      },
      "execution_count": null,
      "outputs": []
    },
    {
      "cell_type": "markdown",
      "source": [
        "**ANONYMOUS FUNCTION**\n",
        "\n",
        "Karena lambda adalah anonymous function, ia akan bebas menggunakan nama apa saja. Dengan kata lain, fungsi lambda bisa disimpan di variabel mana pun. Ini tentunya tidak bisa dilakukan oleh fungsi yang dibuat dengan def. Coba perhatikan ini:"
      ],
      "metadata": {
        "id": "_SL4uo2tSs1o"
      }
    },
    {
      "cell_type": "code",
      "source": [
        "def say_hello(nama):\n",
        "  print(f\"hello{nama}, apa kabar?\")\n",
        "\n",
        "ucapin = say_hello(nama)"
      ],
      "metadata": {
        "colab": {
          "base_uri": "https://localhost:8080/",
          "height": 200
        },
        "id": "_ijJEm7HSmDS",
        "outputId": "9e2e07c6-ef2a-49c0-82b2-f74f67526b73"
      },
      "execution_count": 15,
      "outputs": [
        {
          "output_type": "error",
          "ename": "NameError",
          "evalue": "ignored",
          "traceback": [
            "\u001b[0;31m---------------------------------------------------------------------------\u001b[0m",
            "\u001b[0;31mNameError\u001b[0m                                 Traceback (most recent call last)",
            "\u001b[0;32m<ipython-input-15-88136fd08a96>\u001b[0m in \u001b[0;36m<cell line: 4>\u001b[0;34m()\u001b[0m\n\u001b[1;32m      2\u001b[0m   \u001b[0mprint\u001b[0m\u001b[0;34m(\u001b[0m\u001b[0;34mf\"hello{nama}, apa kabar?\"\u001b[0m\u001b[0;34m)\u001b[0m\u001b[0;34m\u001b[0m\u001b[0;34m\u001b[0m\u001b[0m\n\u001b[1;32m      3\u001b[0m \u001b[0;34m\u001b[0m\u001b[0m\n\u001b[0;32m----> 4\u001b[0;31m \u001b[0mucapin\u001b[0m \u001b[0;34m=\u001b[0m \u001b[0msay_hello\u001b[0m\u001b[0;34m(\u001b[0m\u001b[0mnama\u001b[0m\u001b[0;34m)\u001b[0m\u001b[0;34m\u001b[0m\u001b[0;34m\u001b[0m\u001b[0m\n\u001b[0m",
            "\u001b[0;31mNameError\u001b[0m: name 'nama' is not defined"
          ]
        }
      ]
    },
    {
      "cell_type": "markdown",
      "source": [
        "Saya mencoba membuat fungsi say_hello() dengan def, kemudian menyimpannya ke dalam variabel ucapin. Tapi malah eror.\n",
        "\n",
        "Ini karena fungsi tersebut bukanlah fungsi anonymous yang boleh diubah-ubah namanya.\n",
        "\n",
        "Lalu coba perhatikan di baris terakhir, fungsi lambda greeting() yang sudah disimpan lagi ke variabel yang berbeda, yakni sapa.\n"
      ],
      "metadata": {
        "id": "qK8iqDJNTMEG"
      }
    },
    {
      "cell_type": "code",
      "source": [
        "greeting = lambda name: print(f\"hello, {name}\")\n",
        "sapa = greeting\n",
        "greeting(\"aul\")\n",
        "sapa(\"rachma\")"
      ],
      "metadata": {
        "colab": {
          "base_uri": "https://localhost:8080/"
        },
        "id": "B9BVcAhFTAd1",
        "outputId": "1ef409c1-104d-4ada-f300-d3de5765754d"
      },
      "execution_count": 16,
      "outputs": [
        {
          "output_type": "stream",
          "name": "stdout",
          "text": [
            "hello, aul\n",
            "hello, rachma\n"
          ]
        }
      ]
    },
    {
      "cell_type": "markdown",
      "source": [
        "Hasilnya tidak eror, karena ini adalah fungsi anonymous atau lambda.\n"
      ],
      "metadata": {
        "id": "MvzbAQipTyZK"
      }
    },
    {
      "cell_type": "markdown",
      "source": [
        "**EKSEKUSI LAMBDA SECARA LANGSUNG**\n",
        "Eksekusi lambda secara langsung kelebihan fungsi dibandingkan def adalah bisa kita eksekusi langsung.\n"
      ],
      "metadata": {
        "id": "GeziPgsAUK2k"
      }
    },
    {
      "cell_type": "code",
      "source": [
        "(lambda x,y: x**2 + y**2)(4,6)"
      ],
      "metadata": {
        "colab": {
          "base_uri": "https://localhost:8080/"
        },
        "id": "wF5kyQCXTdKZ",
        "outputId": "d7f302c3-7ca1-4a33-ccdb-2c76758008ec"
      },
      "execution_count": 17,
      "outputs": [
        {
          "output_type": "execute_result",
          "data": {
            "text/plain": [
              "52"
            ]
          },
          "metadata": {},
          "execution_count": 17
        }
      ]
    },
    {
      "cell_type": "markdown",
      "source": [
        "Tanda kurung ysng mengapit fungsi lambda artinya akan langsung mengeksekusi fungsi tersebut.\n",
        "Lalu kurung berikutnya akan berisi parameter.\n",
        "Angka 4 dan 6 adalah parameter x dan y yang akan diberikan kepada fungsi lambda.\n",
        "Maka kita akan langsung mendapatkan hasilnya, yakni 42 + 62 = 52\n",
        "\n",
        "Hasil dari eksekusi ini bisa juga kita simpan ke dalam variabel\n"
      ],
      "metadata": {
        "id": "3ndmX3lVUohp"
      }
    },
    {
      "cell_type": "code",
      "source": [
        "hasil = (lambda x,y: x**2 + y**2)(4,6)\n"
      ],
      "metadata": {
        "id": "5czSAyFcUnNg"
      },
      "execution_count": 18,
      "outputs": []
    },
    {
      "cell_type": "markdown",
      "source": [
        "**MENGAPA HARUS PAKAI LAMBDA**\n",
        "\n",
        "Kita memang tidak harus selalu menggunakan Lambda, tapi dalam kasus tertentu lambda lebih baik dibandingkan fungs biasa.\n",
        "\n",
        "Lambda biasanya dibutuhkan saat ingin membuat fungsi dalam satu baris.\n",
        "\n",
        "Biasanya saat menggunakan fungsi-fungsi seperti filter(), map(), dan reduce() kita akan membuatuhkan lambda.\n",
        "\n",
        "Mengapa ?\n",
        "\n",
        "Karena di fungsi-fungsi tersebut membutuhkan parameter fungsi."
      ],
      "metadata": {
        "id": "_AQXNU5EVDU9"
      }
    },
    {
      "cell_type": "code",
      "source": [
        "bilangan = [10,2,8,7,5,4,3,11,0,1]\n",
        "filtered_result = map (lambda x: x*x, bilangan)\n",
        "print(list(filtered_result))"
      ],
      "metadata": {
        "colab": {
          "base_uri": "https://localhost:8080/"
        },
        "id": "-6ubfDTFU5Pd",
        "outputId": "3e7d1855-30d7-4564-af55-556282c09827"
      },
      "execution_count": 19,
      "outputs": [
        {
          "output_type": "stream",
          "name": "stdout",
          "text": [
            "[100, 4, 64, 49, 25, 16, 9, 121, 0, 1]\n"
          ]
        }
      ]
    },
    {
      "cell_type": "markdown",
      "source": [
        "Pada fungsi map() kita memberikan parameter dengan fungsi lambda.\n",
        "\n",
        "Mengapa bisa begitu ?\n",
        "\n",
        "Karena Lambda bisa disimpan ke dalam variabel, otomatis dia akan bisa juga jadi parameter.\n",
        "\n",
        "Satu lagi contoh dengan fungsi filter()"
      ],
      "metadata": {
        "id": "g2orwE_zVarC"
      }
    },
    {
      "cell_type": "code",
      "source": [
        "#Menentukan bilangan genap\n",
        "genap = lambda x: x%2 == 0\n",
        "list(filter(genap, range(11)))"
      ],
      "metadata": {
        "colab": {
          "base_uri": "https://localhost:8080/"
        },
        "id": "q-YdJob4VZjL",
        "outputId": "6c43fe7a-172b-4b44-b355-320da51309db"
      },
      "execution_count": 20,
      "outputs": [
        {
          "output_type": "execute_result",
          "data": {
            "text/plain": [
              "[0, 2, 4, 6, 8, 10]"
            ]
          },
          "metadata": {},
          "execution_count": 20
        }
      ]
    },
    {
      "cell_type": "code",
      "source": [
        "#Latihan 1\n",
        "def pyhtagoras(tinggi,alas):\n",
        "  sisi_miring = ((tinggi**2)+(alas**2))**(1/2)\n",
        "  return sisi_miring"
      ],
      "metadata": {
        "id": "9E6wF3BsVgMw"
      },
      "execution_count": 21,
      "outputs": []
    },
    {
      "cell_type": "code",
      "source": [
        "pyhtagoras(3,4)"
      ],
      "metadata": {
        "colab": {
          "base_uri": "https://localhost:8080/"
        },
        "id": "wz3kTv4fVkzL",
        "outputId": "61834d81-273f-4bae-902e-fb2024f9c706"
      },
      "execution_count": 23,
      "outputs": [
        {
          "output_type": "execute_result",
          "data": {
            "text/plain": [
              "5.0"
            ]
          },
          "metadata": {},
          "execution_count": 23
        }
      ]
    },
    {
      "cell_type": "code",
      "source": [
        "#Latihan 2\n",
        "def luas_permukaan(panjang,lebar,tinggi):\n",
        "  luas_permukaan_balok = (2*panjang*lebar+2*panjang*tinggi+2*lebar*tinggi)\n",
        "  return luas_permukaan_balok"
      ],
      "metadata": {
        "id": "4i_Ewo8uVpTp"
      },
      "execution_count": 24,
      "outputs": []
    },
    {
      "cell_type": "code",
      "source": [
        "luas_permukaan(10,4,3)"
      ],
      "metadata": {
        "colab": {
          "base_uri": "https://localhost:8080/"
        },
        "id": "yyBEhgeoVvbq",
        "outputId": "d780ee54-c81a-4bbd-b731-7cc682897dc4"
      },
      "execution_count": 25,
      "outputs": [
        {
          "output_type": "execute_result",
          "data": {
            "text/plain": [
              "164"
            ]
          },
          "metadata": {},
          "execution_count": 25
        }
      ]
    },
    {
      "cell_type": "code",
      "source": [
        "#Tugas psds\n",
        "luas_pp = (lambda panjang,lebar: panjang*lebar)(20,4)\n",
        "luas_pp"
      ],
      "metadata": {
        "colab": {
          "base_uri": "https://localhost:8080/"
        },
        "id": "bZy1opZpVxoj",
        "outputId": "1be7c6c2-0887-4e8b-df06-45407839b355"
      },
      "execution_count": 27,
      "outputs": [
        {
          "output_type": "execute_result",
          "data": {
            "text/plain": [
              "80"
            ]
          },
          "metadata": {},
          "execution_count": 27
        }
      ]
    },
    {
      "cell_type": "code",
      "source": [
        "luas_segitiga = (lambda alas,tinggi: 0.5*alas*tinggi)(8,12)\n",
        "luas_segitiga"
      ],
      "metadata": {
        "colab": {
          "base_uri": "https://localhost:8080/"
        },
        "id": "nPRc-oYqV8jO",
        "outputId": "fd6cceb2-b85d-491f-85c6-81bac945abd4"
      },
      "execution_count": 28,
      "outputs": [
        {
          "output_type": "execute_result",
          "data": {
            "text/plain": [
              "48.0"
            ]
          },
          "metadata": {},
          "execution_count": 28
        }
      ]
    },
    {
      "cell_type": "code",
      "source": [],
      "metadata": {
        "id": "xQEccv9YWFD6"
      },
      "execution_count": null,
      "outputs": []
    }
  ]
}